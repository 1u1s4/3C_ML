{
 "cells": [
  {
   "cell_type": "code",
   "execution_count": 1,
   "metadata": {},
   "outputs": [],
   "source": [
    "# Importar las librerías necesarias\n",
    "import pandas as pd\n",
    "import numpy as np\n",
    "from sqlalchemy import create_engine\n",
    "import statsmodels.api as sm\n",
    "from sklearn.model_selection import train_test_split\n",
    "from sklearn.metrics import mean_squared_error, r2_score\n",
    "import matplotlib.pyplot as plt"
   ]
  },
  {
   "cell_type": "code",
   "execution_count": 2,
   "metadata": {},
   "outputs": [],
   "source": [
    "# Configurar la conexión a la base de datos\n",
    "host = '<HOST>'\n",
    "database = '<DATABASE>'\n",
    "user = '<USER>'\n",
    "password = '<PASSWORD>'\n",
    "port = '<PORT>'\n",
    "\n",
    "# Crear la cadena de conexión\n",
    "connection_string = f'mysql+mysqlconnector://{user}:{password}@{host}:{port}/{database}'\n",
    "\n",
    "# Crear la conexión\n",
    "engine = create_engine(connection_string)\n",
    "\n",
    "# Definir las tablas a cargar\n",
    "tablas = ['dim_empresa', 'dim_producto', 'dim_cliente', 'dim_fecha', 'dim_categoria', \n",
    "          'fact_venta', 'fact_detalle_venta']\n",
    "\n",
    "# Cargar las tablas en DataFrames\n",
    "dataframes = {}\n",
    "for tabla in tablas:\n",
    "    query = f'SELECT * FROM {tabla}'\n",
    "    dataframes[tabla] = pd.read_sql(query, engine)"
   ]
  },
  {
   "cell_type": "code",
   "execution_count": 3,
   "metadata": {},
   "outputs": [],
   "source": [
    "# Preprocesamiento inicial\n",
    "# Convertir fechas a datetime\n",
    "dataframes['fact_venta']['fecha_venta'] = pd.to_datetime(dataframes['fact_venta']['fecha_venta'])\n",
    "dataframes['dim_fecha']['fecha'] = pd.to_datetime(dataframes['dim_fecha']['fecha'])\n",
    "\n",
    "# Renombrar 'empresa_id' en dim_cliente para evitar conflictos\n",
    "dataframes['dim_cliente'].rename(columns={'empresa_id': 'empresa_id_cliente'}, inplace=True)\n",
    "\n",
    "# Unir las tablas relevantes\n",
    "df_ventas = pd.merge(dataframes['fact_venta'], dataframes['fact_detalle_venta'], on='venta_id', how='left')\n",
    "df_ventas = pd.merge(df_ventas, dataframes['dim_producto'], on='producto_id', how='left', suffixes=('', '_producto'))\n",
    "df_ventas = pd.merge(df_ventas, dataframes['dim_cliente'], on='cliente_id', how='left', suffixes=('', '_cliente'))\n",
    "df_ventas = pd.merge(df_ventas, dataframes['dim_fecha'], on='fecha_id', how='left')\n",
    "df_ventas = pd.merge(df_ventas, dataframes['dim_empresa'], on='empresa_id', how='left', suffixes=('', '_empresa'))\n",
    "df_ventas = pd.merge(df_ventas, dataframes['dim_categoria'], on='categoria_id', how='left')\n",
    "\n",
    "# Seleccionar variables para el modelo\n",
    "df_modelo = df_ventas[['monto_total', 'precio_lista', 'cantidad', 'nombre_categoria',\n",
    "                       'tipo', 'ciudad', 'estado_id', 'pais_id', 'mes', 'dia_semana', 'trimestre',]]\n",
    "\n",
    "# Convertir variables categóricas a dummies\n",
    "categorical_vars = ['nombre_categoria', 'tipo', 'ciudad', 'estado_id', 'pais_id', 'trimestre',\n",
    "                    'mes', 'dia_semana']\n",
    "df_modelo = pd.get_dummies(df_modelo, columns=categorical_vars, drop_first=True)\n",
    "\n",
    "# Manejo de valores faltantes\n",
    "df_modelo.dropna(inplace=True)"
   ]
  },
  {
   "cell_type": "code",
   "execution_count": 4,
   "metadata": {},
   "outputs": [
    {
     "name": "stdout",
     "output_type": "stream",
     "text": [
      "                            OLS Regression Results                            \n",
      "==============================================================================\n",
      "Dep. Variable:            monto_total   R-squared:                       0.299\n",
      "Model:                            OLS   Adj. R-squared:                  0.298\n",
      "Method:                 Least Squares   F-statistic:                     304.8\n",
      "Date:                Thu, 19 Sep 2024   Prob (F-statistic):               0.00\n",
      "Time:                        18:36:23   Log-Likelihood:                -83429.\n",
      "No. Observations:               12167   AIC:                         1.669e+05\n",
      "Df Residuals:                   12149   BIC:                         1.670e+05\n",
      "Df Model:                          17                                         \n",
      "Covariance Type:            nonrobust                                         \n",
      "================================================================================================\n",
      "                                   coef    std err          t      P>|t|      [0.025      0.975]\n",
      "------------------------------------------------------------------------------------------------\n",
      "const                           50.4428     77.845      0.648      0.517    -102.146     203.032\n",
      "precio_lista                     0.6240      0.063      9.827      0.000       0.500       0.748\n",
      "cantidad                        12.3481      0.182     67.893      0.000      11.992      12.705\n",
      "nombre_categoria_DULCERIA      -34.3565     87.449     -0.393      0.694    -205.770     137.057\n",
      "nombre_categoria_PANADERIA     -16.4210      8.900     -1.845      0.065     -33.866       1.024\n",
      "nombre_categoria_PASTELERIA    -10.8790      9.715     -1.120      0.263     -29.923       8.165\n",
      "nombre_categoria_RESTAURANTE    10.7367     13.057      0.822      0.411     -14.857      36.330\n",
      "trimestre_T3                    26.8952     57.849      0.465      0.642     -86.497     140.288\n",
      "mes_5                          -15.3298    180.241     -0.085      0.932    -368.631     337.971\n",
      "mes_6                           12.1889     77.527      0.157      0.875    -139.777     164.155\n",
      "mes_7                          -29.1036     19.486     -1.494      0.135     -67.300       9.093\n",
      "mes_8                           23.5385     19.521      1.206      0.228     -14.725      61.802\n",
      "mes_9                           32.4602     19.633      1.653      0.098      -6.024      70.945\n",
      "dia_semana_2                    27.3073      7.555      3.615      0.000      12.498      42.116\n",
      "dia_semana_3                    53.3943      7.931      6.732      0.000      37.848      68.941\n",
      "dia_semana_4                   -11.7304      7.858     -1.493      0.136     -27.133       3.672\n",
      "dia_semana_5                    12.0000      7.670      1.565      0.118      -3.034      27.034\n",
      "dia_semana_6                     1.6609      7.784      0.213      0.831     -13.597      16.919\n",
      "dia_semana_7                    -6.9757      7.431     -0.939      0.348     -21.542       7.591\n",
      "==============================================================================\n",
      "Omnibus:                    18571.515   Durbin-Watson:                   0.806\n",
      "Prob(Omnibus):                  0.000   Jarque-Bera (JB):         19722032.571\n",
      "Skew:                           9.237   Prob(JB):                         0.00\n",
      "Kurtosis:                     199.371   Cond. No.                     1.01e+16\n",
      "==============================================================================\n",
      "\n",
      "Notes:\n",
      "[1] Standard Errors assume that the covariance matrix of the errors is correctly specified.\n",
      "[2] The smallest eigenvalue is 2.53e-25. This might indicate that there are\n",
      "strong multicollinearity problems or that the design matrix is singular.\n"
     ]
    }
   ],
   "source": [
    "# Definir variable dependiente e independientes\n",
    "y = df_modelo['monto_total']\n",
    "X = df_modelo.drop('monto_total', axis=1)\n",
    "\n",
    "# Convertir columnas booleanas a enteros\n",
    "bool_cols = X.select_dtypes(include=['bool']).columns\n",
    "X[bool_cols] = X[bool_cols].astype(int)\n",
    "\n",
    "# Asegurarse de que todas las columnas sean numéricas\n",
    "X = X.apply(pd.to_numeric, errors='coerce')\n",
    "y = pd.to_numeric(y, errors='coerce')\n",
    "\n",
    "# Eliminar filas con NaN resultantes de la conversión\n",
    "X.dropna(inplace=True)\n",
    "y = y.loc[X.index]\n",
    "\n",
    "# Añadir constante para el intercepto\n",
    "X = sm.add_constant(X)\n",
    "\n",
    "# Ajustar el modelo de regresión inicial\n",
    "modelo_sm = sm.OLS(y, X).fit()\n",
    "print(modelo_sm.summary())\n"
   ]
  },
  {
   "cell_type": "code",
   "execution_count": 5,
   "metadata": {},
   "outputs": [],
   "source": [
    "# Eliminación de variables no significativas y multicolineales\n",
    "# Eliminar meses no significativos\n",
    "meses_a_eliminar = ['mes_5', 'mes_6', 'mes_7', 'mes_8', 'mes_9']\n",
    "X = X.drop(columns=meses_a_eliminar, errors='ignore')\n",
    "\n",
    "# Eliminar categorías no significativas\n",
    "X = X.drop([\n",
    "    'nombre_categoria_DULCERIA', 'nombre_categoria_PASTELERIA', 'nombre_categoria_PANADERIA',\n",
    "    'nombre_categoria_RESTAURANTE', 'trimestre_T3'\n",
    "], axis=1, errors='ignore')\n",
    "\n",
    "\n",
    "# Agrupar días de fin de semana\n",
    "X['Fin_de_Semana'] = X.get('dia_semana_6', 0) + X.get('dia_semana_7', 0)\n",
    "dias_a_eliminar = ['dia_semana_4', 'dia_semana_6', 'dia_semana_7', 'dia_semana_5']\n",
    "X = X.drop(columns=dias_a_eliminar, errors='ignore')\n"
   ]
  },
  {
   "cell_type": "code",
   "execution_count": 6,
   "metadata": {},
   "outputs": [
    {
     "name": "stdout",
     "output_type": "stream",
     "text": [
      "        Variable       VIF\n",
      "0   precio_lista  1.252400\n",
      "1       cantidad  1.044534\n",
      "2   dia_semana_2  1.063580\n",
      "3   dia_semana_3  1.065159\n",
      "4  Fin_de_Semana  1.169689\n"
     ]
    }
   ],
   "source": [
    "from statsmodels.stats.outliers_influence import variance_inflation_factor\n",
    "\n",
    "# Recalcular VIF\n",
    "X_no_const = X.drop('const', axis=1)\n",
    "\n",
    "vif_data = pd.DataFrame()\n",
    "vif_data[\"Variable\"] = X_no_const.columns\n",
    "vif_data[\"VIF\"] = [variance_inflation_factor(X_no_const.values, i) for i in range(X_no_const.shape[1])]\n",
    "\n",
    "print(vif_data)\n"
   ]
  },
  {
   "cell_type": "code",
   "execution_count": 7,
   "metadata": {},
   "outputs": [
    {
     "name": "stdout",
     "output_type": "stream",
     "text": [
      "                            OLS Regression Results                            \n",
      "==============================================================================\n",
      "Dep. Variable:            monto_total   R-squared:                       0.288\n",
      "Model:                            OLS   Adj. R-squared:                  0.288\n",
      "Method:                 Least Squares   F-statistic:                     983.7\n",
      "Date:                Thu, 19 Sep 2024   Prob (F-statistic):               0.00\n",
      "Time:                        18:36:23   Log-Likelihood:                -83524.\n",
      "No. Observations:               12167   AIC:                         1.671e+05\n",
      "Df Residuals:                   12161   BIC:                         1.671e+05\n",
      "Df Model:                           5                                         \n",
      "Covariance Type:            nonrobust                                         \n",
      "=================================================================================\n",
      "                    coef    std err          t      P>|t|      [0.025      0.975]\n",
      "---------------------------------------------------------------------------------\n",
      "const            65.4365      3.537     18.501      0.000      58.503      72.370\n",
      "precio_lista      0.6600      0.056     11.772      0.000       0.550       0.770\n",
      "cantidad         12.4994      0.182     68.718      0.000      12.143      12.856\n",
      "dia_semana_2     25.8318      6.354      4.065      0.000      13.377      38.287\n",
      "dia_semana_3     47.7145      6.786      7.032      0.000      34.414      61.015\n",
      "Fin_de_Semana    -4.7026      5.017     -0.937      0.349     -14.537       5.132\n",
      "==============================================================================\n",
      "Omnibus:                    18510.191   Durbin-Watson:                   0.803\n",
      "Prob(Omnibus):                  0.000   Jarque-Bera (JB):         19135658.443\n",
      "Skew:                           9.184   Prob(JB):                         0.00\n",
      "Kurtosis:                     196.413   Cond. No.                         177.\n",
      "==============================================================================\n",
      "\n",
      "Notes:\n",
      "[1] Standard Errors assume that the covariance matrix of the errors is correctly specified.\n"
     ]
    }
   ],
   "source": [
    "# Reajustar el modelo de regresión\n",
    "modelo_sm = sm.OLS(y, X).fit()\n",
    "print(modelo_sm.summary())"
   ]
  },
  {
   "cell_type": "code",
   "execution_count": 8,
   "metadata": {},
   "outputs": [
    {
     "name": "stdout",
     "output_type": "stream",
     "text": [
      "RMSE: 251.11936481800663\n",
      "R-squared: 0.2695227089745137\n"
     ]
    }
   ],
   "source": [
    "# Dividir los datos en conjuntos de entrenamiento y prueba\n",
    "X_train, X_test, y_train, y_test = train_test_split(X, y, test_size=0.2, random_state=42)\n",
    "\n",
    "# Ajustar el modelo en el conjunto de entrenamiento\n",
    "modelo_sm = sm.OLS(y_train, X_train).fit()\n",
    "\n",
    "# Realizar predicciones en el conjunto de prueba\n",
    "y_pred = modelo_sm.predict(X_test)\n",
    "\n",
    "# Calcular métricas de desempeño\n",
    "mse = mean_squared_error(y_test, y_pred)\n",
    "rmse = np.sqrt(mse)\n",
    "r2 = r2_score(y_test, y_pred)\n",
    "print(f'RMSE: {rmse}')\n",
    "print(f'R-squared: {r2}')"
   ]
  },
  {
   "cell_type": "code",
   "execution_count": 9,
   "metadata": {},
   "outputs": [
    {
     "name": "stdout",
     "output_type": "stream",
     "text": [
      "        Variable  Coeficiente\n",
      "0          const    63.802986\n",
      "1   precio_lista     0.667140\n",
      "2       cantidad    12.231580\n",
      "3   dia_semana_2    27.466227\n",
      "4   dia_semana_3    51.632460\n",
      "5  Fin_de_Semana    -2.258192\n"
     ]
    }
   ],
   "source": [
    "# Mostrar coeficientes del modelo\n",
    "coeficientes = pd.DataFrame({'Variable': X.columns, 'Coeficiente': modelo_sm.params})\n",
    "print(coeficientes.reset_index(drop=True))"
   ]
  },
  {
   "cell_type": "code",
   "execution_count": 10,
   "metadata": {},
   "outputs": [
    {
     "data": {
      "image/png": "[encoded data removed]",
      "text/plain": [
       "<Figure size 640x480 with 1 Axes>"
      ]
     },
     "metadata": {},
     "output_type": "display_data"
    }
   ],
   "source": [
    "# Gráfico de residuos\n",
    "plt.scatter(y_pred, y_test - y_pred)\n",
    "plt.xlabel('Predicciones')\n",
    "plt.ylabel('Residuos')\n",
    "plt.title('Gráfico de Residuos')\n",
    "plt.axhline(y=0, color='r', linestyle='--')\n",
    "plt.show()"
   ]
  },
  {
   "cell_type": "code",
   "execution_count": 11,
   "metadata": {},
   "outputs": [
    {
     "data": {
      "image/png": "[encoded data removed]",
      "text/plain": [
       "<Figure size 640x480 with 1 Axes>"
      ]
     },
     "metadata": {},
     "output_type": "display_data"
    }
   ],
   "source": [
    "# Histograma de residuos\n",
    "plt.hist(y_test - y_pred, bins=30)\n",
    "plt.xlabel('Residuos')\n",
    "plt.ylabel('Frecuencia')\n",
    "plt.title('Histograma de Residuos')\n",
    "plt.show()"
   ]
  },
  {
   "cell_type": "markdown",
   "metadata": {},
   "source": [
    "# **Análisis y Recomendaciones para Incrementar las Ventas**\n",
    "\n",
    "## **Introducción**\n",
    "\n",
    "A partir del modelo de regresión lineal múltiple desarrollado, hemos identificado factores clave que influyen significativamente en el monto total de las ventas. El objetivo de este análisis es proporcionar recomendaciones prácticas y estratégicas para mejorar las ventas de la empresa, basadas en los hallazgos estadísticos obtenidos.\n",
    "\n",
    "---\n",
    "\n",
    "## **Resumen de Resultados del Modelo**\n",
    "\n",
    "El modelo tiene un **R-cuadrado de 0.287**, lo que indica que aproximadamente el 28.7% de la variabilidad en el monto total de las ventas es explicada por las variables incluidas en el modelo. A continuación, se detallan las variables significativas y su impacto en las ventas:\n",
    "\n",
    "1. **Precio Lista** (`precio_lista`):\n",
    "   - **Coeficiente**: 0.6586\n",
    "   - **Interpretación**: Por cada unidad monetaria adicional en el precio de lista, el monto total de ventas aumenta en promedio en 0.6586 unidades monetarias, manteniendo constantes las demás variables.\n",
    "   - **Recomendación**: Ajustar el precio de lista puede influir positivamente en las ventas, pero debe hacerse con cuidado para no afectar negativamente la demanda.\n",
    "\n",
    "2. **Cantidad Vendida** (`cantidad`):\n",
    "   - **Coeficiente**: 12.5135\n",
    "   - **Interpretación**: Cada unidad adicional vendida incrementa el monto total de ventas en promedio en 12.5135 unidades monetarias.\n",
    "   - **Recomendación**: Implementar estrategias que incentiven la compra de mayores cantidades, como promociones por volumen o descuentos por compras múltiples.\n",
    "\n",
    "3. **Día de la Semana 3** (`dia_semana_3`):\n",
    "   - **Coeficiente**: 41.1642\n",
    "   - **Interpretación**: Las ventas en el día 3 de la semana (probablemente miércoles) son en promedio 41.1642 unidades monetarias mayores que el día de referencia.\n",
    "   - **Recomendación**: Aprovechar este día con promociones especiales o eventos para maximizar las ventas.\n",
    "\n",
    "4. **Fin de Semana** (`Fin_de_Semana`):\n",
    "   - **Coeficiente**: -11.2135\n",
    "   - **Interpretación**: Las ventas durante el fin de semana son en promedio 11.2135 unidades monetarias menores que el día de referencia.\n",
    "   - **Recomendación**: Implementar estrategias para aumentar las ventas durante el fin de semana, como promociones especiales o actividades que atraigan a más clientes.\n",
    "\n",
    "---\n",
    "\n",
    "## **Recomendaciones Estratégicas**\n",
    "\n",
    "### **1. Optimización de Precios**\n",
    "\n",
    "- **Ajuste del Precio de Lista**:\n",
    "  - Dado que el precio de lista tiene un impacto positivo en las ventas, existe la oportunidad de ajustar los precios para mejorar los ingresos.\n",
    "  - **Acciones**:\n",
    "    - Realizar análisis de elasticidad de precio para entender cómo cambios en el precio afectan la demanda.\n",
    "    - Comunicar claramente el valor agregado de los productos para justificar cualquier incremento de precio.\n",
    "    - Implementar precios psicológicos que mejoren la percepción del cliente.\n",
    "\n",
    "### **2. Incremento de la Cantidad Vendida**\n",
    "\n",
    "- **Promociones por Volumen**:\n",
    "  - Ofrecer descuentos por la compra de múltiples unidades para incentivar compras de mayor cantidad.\n",
    "- **Paquetes y Combos**:\n",
    "  - Crear ofertas que agrupen varios productos a un precio especial.\n",
    "- **Programas de Fidelización**:\n",
    "  - Recompensar a los clientes frecuentes con beneficios que los motiven a aumentar el volumen de sus compras.\n",
    "\n",
    "### **3. Maximizar Ventas en el Día 3**\n",
    "\n",
    "- **Promociones Especiales los Miércoles**:\n",
    "  - Implementar ofertas exclusivas o descuentos adicionales para atraer aún más clientes en este día.\n",
    "- **Eventos Temáticos**:\n",
    "  - Organizar eventos o actividades que incrementen el tráfico de clientes.\n",
    "\n",
    "### **4. Aumentar Ventas durante el Fin de Semana**\n",
    "\n",
    "- **Identificar Barreras**:\n",
    "  - Investigar las razones detrás de las menores ventas en el fin de semana.\n",
    "- **Estrategias de Atracción**:\n",
    "  - Ofrecer promociones especiales solo disponibles durante el fin de semana.\n",
    "  - Implementar actividades familiares o entretenimiento en tienda para atraer más clientes.\n",
    "- **Marketing Enfocado**:\n",
    "  - Realizar campañas publicitarias dirigidas a promover las ventas durante el fin de semana.\n",
    "\n",
    "### **5. Estrategias de Marketing y Promoción**\n",
    "\n",
    "- **Campañas Publicitarias Segmentadas**:\n",
    "  - Utilizar datos demográficos y de comportamiento para dirigir campañas más efectivas.\n",
    "- **Canales Digitales**:\n",
    "  - Aprovechar redes sociales y correo electrónico para comunicar ofertas y eventos.\n",
    "- **Colaboraciones y Alianzas**:\n",
    "  - Asociarse con otras marcas o negocios locales para ampliar el alcance y atraer nuevos clientes.\n",
    "\n",
    "### **6. Monitoreo y Evaluación Continua**\n",
    "\n",
    "- **Seguimiento de KPIs**:\n",
    "  - Establecer indicadores clave de rendimiento para medir el impacto de las estrategias implementadas.\n",
    "- **Análisis de Datos en Tiempo Real**:\n",
    "  - Utilizar herramientas de análisis para ajustar rápidamente las estrategias según los resultados obtenidos.\n",
    "- **Feedback de Clientes**:\n",
    "  - Implementar encuestas o canales de retroalimentación para comprender mejor las necesidades y preferencias de los clientes.\n",
    "\n",
    "---\n",
    "\n",
    "## **Conclusión**\n",
    "\n",
    "El análisis del modelo de regresión ha revelado factores clave que afectan el monto total de las ventas. Al centrarse en estrategias que optimicen los precios, incentiven el aumento en la cantidad vendida, aprovechen los días con mayores ventas y mejoren el desempeño durante el fin de semana, la empresa puede implementar acciones concretas para incrementar sus ingresos.\n",
    "\n",
    "Es esencial que estas recomendaciones se implementen de manera planificada y que se realice un seguimiento constante para medir su efectividad y realizar ajustes necesarios. La toma de decisiones informadas y basadas en datos será fundamental para el éxito continuo y el crecimiento de la empresa.\n",
    "\n"
   ]
  },
  {
   "cell_type": "code",
   "execution_count": null,
   "metadata": {},
   "outputs": [],
   "source": []
  }
 ],
 "metadata": {
  "kernelspec": {
   "display_name": ".venv",
   "language": "python",
   "name": "python3"
  },
  "language_info": {
   "codemirror_mode": {
    "name": "ipython",
    "version": 3
   },
   "file_extension": ".py",
   "mimetype": "text/x-python",
   "name": "python",
   "nbconvert_exporter": "python",
   "pygments_lexer": "ipython3",
   "version": "3.12.3"
  }
 },
 "nbformat": 4,
 "nbformat_minor": 2
}
